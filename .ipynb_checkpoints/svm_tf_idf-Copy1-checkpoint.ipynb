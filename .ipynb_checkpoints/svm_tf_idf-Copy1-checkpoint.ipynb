{
 "cells": [
  {
   "cell_type": "code",
   "execution_count": 1,
   "metadata": {},
   "outputs": [],
   "source": [
    "import numpy as np\n",
    "from sklearn.feature_extraction.text import TfidfVectorizer"
   ]
  },
  {
   "cell_type": "code",
   "execution_count": 2,
   "metadata": {},
   "outputs": [],
   "source": [
    "pos_data = np.loadtxt('data/rt-polaritydata/rt-polarity.pos', dtype=str, delimiter='\\n')\n",
    "neg_data = np.loadtxt('data/rt-polaritydata/rt-polarity.neg', dtype=str, delimiter='\\n')\n",
    "pos_label = np.array([0]*len(pos_data))\n",
    "neg_label = np.array([1]*len(neg_data))\n",
    "data = np.concatenate([pos_data, neg_data])\n",
    "label = np.concatenate([pos_label, neg_label])"
   ]
  },
  {
   "cell_type": "code",
   "execution_count": 3,
   "metadata": {},
   "outputs": [],
   "source": [
    "vectorizer = TfidfVectorizer(input='content', decode_error='ignore')\n",
    "vectors = vectorizer.fit_transform(data).toarray()\n",
    "vectors_and_labels = np.array([np.array([vectors[i],label[i]]) for i in range(len(data))])"
   ]
  },
  {
   "cell_type": "code",
   "execution_count": 4,
   "metadata": {},
   "outputs": [
    {
     "name": "stdout",
     "output_type": "stream",
     "text": [
      "[[array([0., 0., 0., ..., 0., 0., 0.]) 1]\n",
      " [array([0., 0., 0., ..., 0., 0., 0.]) 1]\n",
      " [array([0., 0., 0., ..., 0., 0., 0.]) 1]\n",
      " ...\n",
      " [array([0., 0., 0., ..., 0., 0., 0.]) 0]\n",
      " [array([0., 0., 0., ..., 0., 0., 0.]) 0]\n",
      " [array([0., 0., 0., ..., 0., 0., 0.]) 1]]\n"
     ]
    }
   ],
   "source": [
    "np.random.shuffle(vectors_and_labels)\n",
    "print(vectors_and_labels)\n",
    "\n",
    "test_data, train_data = vectors_and_labels[:500], vectors_and_labels[500:]"
   ]
  },
  {
   "cell_type": "code",
   "execution_count": 12,
   "metadata": {},
   "outputs": [],
   "source": [
    "from sklearn.model_selection import RandomizedSearchCV, PredefinedSplit\n",
    "from scipy.stats import uniform, randint\n",
    "from sklearn.svm import LinearSVC, SVC\n"
   ]
  },
  {
   "cell_type": "code",
   "execution_count": null,
   "metadata": {},
   "outputs": [
    {
     "name": "stdout",
     "output_type": "stream",
     "text": [
      "Fitting 5 folds for each of 20 candidates, totalling 100 fits\n"
     ]
    },
    {
     "name": "stderr",
     "output_type": "stream",
     "text": [
      "[Parallel(n_jobs=1)]: Using backend SequentialBackend with 1 concurrent workers.\n",
      "C:\\ProgramData\\Anaconda3\\envs\\tf_gpu\\lib\\site-packages\\sklearn\\svm\\base.py:196: FutureWarning: The default value of gamma will change from 'auto' to 'scale' in version 0.22 to account better for unscaled features. Set gamma explicitly to 'auto' or 'scale' to avoid this warning.\n",
      "  \"avoid this warning.\", FutureWarning)\n",
      "C:\\ProgramData\\Anaconda3\\envs\\tf_gpu\\lib\\site-packages\\sklearn\\svm\\base.py:196: FutureWarning: The default value of gamma will change from 'auto' to 'scale' in version 0.22 to account better for unscaled features. Set gamma explicitly to 'auto' or 'scale' to avoid this warning.\n",
      "  \"avoid this warning.\", FutureWarning)\n"
     ]
    }
   ],
   "source": [
    "svm = SVC()\n",
    "svm_params = {\n",
    "    \"tol\": uniform(0,1e-1),\n",
    "    \"C\": uniform(0,10)\n",
    "}\n",
    "\n",
    "svm = RandomizedSearchCV(svm, svm_params, n_iter=20, scoring=\"accuracy\", cv=5, verbose=10)\n",
    "\n",
    "svm.fit(train_data[:,0].tolist(), train_data[:,1].tolist())\n",
    "print(\"Best params for Linear SVM\")\n",
    "print(svm.best_params_)"
   ]
  },
  {
   "cell_type": "code",
   "execution_count": null,
   "metadata": {},
   "outputs": [],
   "source": [
    "print(\"Train Accuracy\")\n",
    "print(svm.score(train_data[:,0].tolist(), train_data[:,1].tolist()))\n",
    "print(\"Test Accuracy\")\n",
    "print(svm.score(test_data[:,0].tolist(), test_data[:,1].tolist()))"
   ]
  },
  {
   "cell_type": "code",
   "execution_count": null,
   "metadata": {},
   "outputs": [],
   "source": []
  },
  {
   "cell_type": "code",
   "execution_count": null,
   "metadata": {},
   "outputs": [],
   "source": []
  }
 ],
 "metadata": {
  "kernelspec": {
   "display_name": "Python 3",
   "language": "python",
   "name": "python3"
  },
  "language_info": {
   "codemirror_mode": {
    "name": "ipython",
    "version": 3
   },
   "file_extension": ".py",
   "mimetype": "text/x-python",
   "name": "python",
   "nbconvert_exporter": "python",
   "pygments_lexer": "ipython3",
   "version": "3.6.7"
  }
 },
 "nbformat": 4,
 "nbformat_minor": 2
}
